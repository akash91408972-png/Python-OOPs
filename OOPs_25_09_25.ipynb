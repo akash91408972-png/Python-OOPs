{
  "nbformat": 4,
  "nbformat_minor": 0,
  "metadata": {
    "colab": {
      "provenance": []
    },
    "kernelspec": {
      "name": "python3",
      "display_name": "Python 3"
    },
    "language_info": {
      "name": "python"
    }
  },
  "cells": [
    {
      "cell_type": "code",
      "execution_count": null,
      "metadata": {
        "id": "GEUSF_l810g4"
      },
      "outputs": [],
      "source": [
        "#Theory"
      ]
    },
    {
      "cell_type": "markdown",
      "source": [
        "Q1. What is Object-Oriented Programming (OOP)?\n",
        "\n",
        "Answer:\n",
        "Object-Oriented Programming (OOP) is a way of writing programs using objects.\n",
        "\n",
        "Objects represent real-world things (like car, student, bank account).\n",
        "\n",
        "OOP focuses on class and object.\n",
        "\n",
        "It makes code reusable, easy to maintain, and more organized.\n",
        "\n",
        "*Example of OOP\n",
        "class Car:\n",
        "    def __init__(self, brand, color):\n",
        "        self.brand = brand\n",
        "        self.color = color\n",
        "\n",
        "    def show_info(self):\n",
        "        print(f\"This car is {self.color} {self.brand}\")\n",
        "\n",
        "*Creating object\n",
        "c1 = Car(\"Tata\", \"Red\")\n",
        "c1.show_info()\n",
        "\n",
        "Q2. What is a class in OOP?\n",
        "\n",
        "Answer:\n",
        "A class is a blueprint/template for creating objects.\n",
        "It defines properties (variables) and behaviors (methods).\n",
        "\n",
        "class Student:\n",
        "    def __init__(self, name, age):\n",
        "        self.name = name\n",
        "        self.age = age\n",
        "\n",
        "    def show(self):\n",
        "        print(f\"My name is {self.name} and I am {self.age} years old\")\n",
        "\n",
        "*Class is just a plan, object is actual\n",
        "\n",
        "Q3. What is an object in OOP?\n",
        "\n",
        "Answer:\n",
        "An object is a real instance of a class.\n",
        "\n",
        "Class = design/blueprint\n",
        "\n",
        "Object = real thing created from class\n",
        "\n",
        "class Student:\n",
        "    def __init__(self, name):\n",
        "        self.name = name\n",
        "\n",
        "*creating object\n",
        "s1 = Student(\"Akash\")\n",
        "print(s1.name)  #Output: Akash\n",
        "\n",
        "Q4. What is the difference between abstraction and encapsulation?\n",
        "\n",
        "Answer:\n",
        "\n",
        "Abstraction = Hiding implementation details and showing only important things. (Like ATM → you only press buttons, don’t see code inside).\n",
        "\n",
        "Encapsulation = Wrapping data and methods inside a class and making variables private/protected to secure them.\n",
        "\n",
        "*Abstraction Example\n",
        "from abc import ABC, abstractmethod\n",
        "\n",
        "class Vehicle(ABC):\n",
        "    @abstractmethod\n",
        "    def start(self):\n",
        "        pass\n",
        "\n",
        "class Car(Vehicle):\n",
        "    def start(self):\n",
        "        print(\"Car started...\")\n",
        "\n",
        "c = Car()\n",
        "c.start()\n",
        "\n",
        "*Encapsulation Example\n",
        "class Bank:\n",
        "    def __init__(self):\n",
        "        self.__balance = 0  # private variable\n",
        "\n",
        "    def deposit(self, amount):\n",
        "        self.__balance += amount\n",
        "\n",
        "    def get_balance(self):\n",
        "        return self.__balance\n",
        "\n",
        "b = Bank()\n",
        "b.deposit(500)\n",
        "print(b.get_balance())\n",
        "\n",
        "\n",
        "Q5. What are dunder methods in Python?\n",
        "\n",
        "Answer:\n",
        "\n",
        "Dunder methods = special methods with double underscores like __init__, __str__, __add__.\n",
        "\n",
        "They give special behavior to objects.\n",
        "\n",
        "class Book:\n",
        "    def __init__(self, title):\n",
        "        self.title = title\n",
        "\n",
        "    def __str__(self):\n",
        "        return f\"Book title: {self.title}\"\n",
        "\n",
        "b = Book(\"Python Guide\")\n",
        "print(b)   # calls __str__\n",
        "\n",
        "Q6. Explain the concept of inheritance in OOP.\n",
        "\n",
        "Answer:\n",
        "Inheritance means one class can use properties/methods of another class.\n",
        "\n",
        "Parent class → base class\n",
        "\n",
        "Child class → derived class\n",
        "\n",
        "class Animal:\n",
        "    def speak(self):\n",
        "        print(\"Animal speaks\")\n",
        "\n",
        "class Dog(Animal):\n",
        "    def speak(self):\n",
        "        print(\"Bark!\")\n",
        "\n",
        "d = Dog()\n",
        "d.speak()\n",
        "\n",
        "Q7. What is polymorphism in OOP?\n",
        "\n",
        "Answer:\n",
        "Polymorphism = one thing, many forms.\n",
        "\n",
        "Same method name, different behavior in different classes.\n",
        "\n",
        "class Bird:\n",
        "    def fly(self):\n",
        "        print(\"Bird is flying\")\n",
        "\n",
        "class Sparrow(Bird):\n",
        "    def fly(self):\n",
        "        print(\"Sparrow flies high\")\n",
        "\n",
        "class Penguin(Bird):\n",
        "    def fly(self):\n",
        "        print(\"Penguins cannot fly\")\n",
        "\n",
        "for b in [Sparrow(), Penguin()]:\n",
        "    b.fly()\n",
        "\n",
        "Q8. How is encapsulation achieved in Python?\n",
        "\n",
        "Answer:\n",
        "Encapsulation is done by making variables private (using __) and using getter/setter methods.\n",
        "\n",
        "class BankAccount:\n",
        "    def __init__(self):\n",
        "        self.__balance = 0\n",
        "\n",
        "    def deposit(self, amount):\n",
        "        self.__balance += amount\n",
        "\n",
        "    def get_balance(self):\n",
        "        return self.__balance\n",
        "\n",
        "acc = BankAccount()\n",
        "acc.deposit(1000)\n",
        "print(acc.get_balance())\n",
        "\n",
        "Q9. What is a constructor in Python?\n",
        "\n",
        "Answer:\n",
        "\n",
        "Constructor = __init__ method.\n",
        "\n",
        "It runs automatically when object is created.\n",
        "\n",
        "class Student:\n",
        "    def __init__(self, name):\n",
        "        self.name = name\n",
        "        print(f\"Student {self.name} created\")\n",
        "\n",
        "s1 = Student(\"Akash\")\n",
        "\n",
        "Q10. What are class and static methods in Python?\n",
        "\n",
        "Answer:\n",
        "\n",
        "Class method → works with class, uses @classmethod.\n",
        "\n",
        "Static method → independent, no self or cls, uses @staticmethod.\n",
        "\n",
        "class Math:\n",
        "    @classmethod\n",
        "    def add(cls, a, b):\n",
        "        return a + b\n",
        "\n",
        "    @staticmethod\n",
        "    def multiply(a, b):\n",
        "        return a * b\n",
        "\n",
        "print(Math.add(2, 3))\n",
        "print(Math.multiply(2, 3))\n",
        "\n",
        "Q11. What is method overloading in Python?\n",
        "\n",
        "Answer:\n",
        "Python does not support true overloading.\n",
        "But we can use default arguments to achieve similar effect.\n",
        "\n",
        "class Calculator:\n",
        "    def add(self, a, b=0, c=0):\n",
        "        return a + b + c\n",
        "\n",
        "calc = Calculator()\n",
        "print(calc.add(5, 10))\n",
        "print(calc.add(5, 10, 15))\n",
        "\n",
        "Q12. What is method overriding in OOP?\n",
        "\n",
        "Answer:\n",
        "When child class gives its own version of a parent class method.\n",
        "\n",
        "class Animal:\n",
        "    def speak(self):\n",
        "        print(\"Animal speaks\")\n",
        "\n",
        "class Dog(Animal):\n",
        "    def speak(self):\n",
        "        print(\"Bark!\")\n",
        "\n",
        "d = Dog()\n",
        "d.speak()\n",
        "\n",
        "Q13. What is a property decorator in Python?\n",
        "\n",
        "Answer:\n",
        "@property makes a method act like a variable (getter).\n",
        "\n",
        "class Student:\n",
        "    def __init__(self, marks):\n",
        "        self._marks = marks\n",
        "\n",
        "    @property\n",
        "    def grade(self):\n",
        "        if self._marks >= 50:\n",
        "            return \"Pass\"\n",
        "        else:\n",
        "            return \"Fail\"\n",
        "\n",
        "s = Student(60)\n",
        "print(s.grade)\n",
        "\n",
        "Q14. Why is polymorphism important in OOP?\n",
        "\n",
        "Answer:\n",
        "\n",
        "It allows same method name to behave differently.\n",
        "\n",
        "Makes code flexible and reusable.\n",
        "\n",
        "Q15. What is an abstract class in Python?\n",
        "\n",
        "Answer:\n",
        "\n",
        "Abstract class = class with abstract methods (no implementation).\n",
        "\n",
        "Used for design.\n",
        "\n",
        "Made using ABC module.\n",
        "\n",
        "from abc import ABC, abstractmethod\n",
        "\n",
        "class Shape(ABC):\n",
        "    @abstractmethod\n",
        "    def area(self):\n",
        "        pass\n",
        "\n",
        "class Circle(Shape):\n",
        "    def __init__(self, r):\n",
        "        self.r = r\n",
        "    def area(self):\n",
        "        return 3.14 * self.r * self.r\n",
        "\n",
        "c = Circle(5)\n",
        "print(c.area())\n",
        "\n",
        "Q16. What are the advantages of OOP?\n",
        "\n",
        "Answer:\n",
        "\n",
        "Code reusability\n",
        "\n",
        "Easy to maintain\n",
        "\n",
        "More secure (encapsulation)\n",
        "\n",
        "Real-world modeling\n",
        "\n",
        "Q17. What is the difference between a class variable and an instance variable?\n",
        "\n",
        "Answer:\n",
        "\n",
        "Class variable → shared by all objects.\n",
        "\n",
        "Instance variable → separate for each object.\n",
        "\n",
        "class Student:\n",
        "    college = \"ABC College\"  # class variable\n",
        "    def __init__(self, name):\n",
        "        self.name = name      # instance variable\n",
        "\n",
        "s1 = Student(\"Akash\")\n",
        "s2 = Student(\"Neha\")\n",
        "\n",
        "print(s1.college, s2.college)\n",
        "print(s1.name, s2.name)\n",
        "\n",
        "Q18. What is multiple inheritance in Python?\n",
        "\n",
        "Answer:\n",
        "A class can inherit from more than one parent class.\n",
        "\n",
        "class A:\n",
        "    def show(self):\n",
        "        print(\"A\")\n",
        "\n",
        "class B:\n",
        "    def display(self):\n",
        "        print(\"B\")\n",
        "\n",
        "class C(A, B):\n",
        "    pass\n",
        "\n",
        "c = C()\n",
        "c.show()\n",
        "c.display()\n",
        "\n",
        "Q19. Explain the purpose of __str__ and __repr__ methods in Python.\n",
        "\n",
        "Answer:\n",
        "\n",
        "__str__ → user-friendly string\n",
        "\n",
        "__repr__ → developer-friendly (debugging)\n",
        "\n",
        "class Book:\n",
        "    def __init__(self, title):\n",
        "        self.title = title\n",
        "\n",
        "    def __str__(self):\n",
        "        return f\"Book: {self.title}\"\n",
        "\n",
        "    def __repr__(self):\n",
        "        return f\"Book('{self.title}')\"\n",
        "\n",
        "b = Book(\"Python OOP\")\n",
        "print(str(b))\n",
        "print(repr(b))\n",
        "\n",
        "Q20. What is the significance of the super() function in Python?\n",
        "\n",
        "Answer:\n",
        "super() is used to call parent class constructor/method.\n",
        "\n",
        "class Animal:\n",
        "    def __init__(self):\n",
        "        print(\"Animal created\")\n",
        "\n",
        "class Dog(Animal):\n",
        "    def __init__(self):\n",
        "        super().__init__()   # call parent constructor\n",
        "        print(\"Dog created\")\n",
        "\n",
        "d = Dog()\n",
        "\n",
        "Q21. What is the significance of the __del__ method in Python?\n",
        "\n",
        "Answer:\n",
        "\n",
        "__del__ is a destructor.\n",
        "\n",
        "Called when object is deleted.\n",
        "\n",
        "class Test:\n",
        "    def __del__(self):\n",
        "        print(\"Object destroyed\")\n",
        "\n",
        "t = Test()\n",
        "del t\n",
        "\n",
        "Q22. What is the difference between @staticmethod and @classmethod in Python?\n",
        "\n",
        "Answer:\n",
        "\n",
        "staticmethod → no access to class/object, just normal function inside class.\n",
        "\n",
        "classmethod → takes cls and can access class variables.\n",
        "\n",
        "class Demo:\n",
        "    count = 0\n",
        "\n",
        "    @staticmethod\n",
        "    def hello():\n",
        "        print(\"Hello!\")\n",
        "\n",
        "    @classmethod\n",
        "    def increase(cls):\n",
        "        cls.count += 1\n",
        "        print(cls.count)\n",
        "\n",
        "Demo.hello()\n",
        "Demo.increase()\n",
        "\n",
        "Q23. How does polymorphism work in Python with inheritance?\n",
        "\n",
        "Answer:\n",
        "When child class overrides parent methods, same method name works differently.\n",
        "\n",
        "class Animal:\n",
        "    def sound(self):\n",
        "        print(\"Animal sound\")\n",
        "\n",
        "class Dog(Animal):\n",
        "    def sound(self):\n",
        "        print(\"Bark\")\n",
        "\n",
        "class Cat(Animal):\n",
        "    def sound(self):\n",
        "        print(\"Meow\")\n",
        "\n",
        "for a in [Dog(), Cat()]:\n",
        "    a.sound()\n",
        "\n",
        "Q24. What is method chaining in Python OOP?\n",
        "\n",
        "Answer:\n",
        "Calling multiple methods one after another in a single line.\n",
        "We return self from methods.\n",
        "\n",
        "class Person:\n",
        "    def __init__(self, name):\n",
        "        self.name = name\n",
        "\n",
        "    def greet(self):\n",
        "        print(f\"Hello, I am {self.name}\")\n",
        "        return self\n",
        "\n",
        "    def bye(self):\n",
        "        print(\"Goodbye!\")\n",
        "        return self\n",
        "\n",
        "p = Person(\"Akash\")\n",
        "p.greet().bye()\n",
        "\n",
        "Q25. What is the purpose of the __call__ method in Python?\n",
        "\n",
        "Answer:\n",
        "\n",
        "Makes object behave like a function.\n",
        "\n",
        "class Multiply:\n",
        "    def __init__(self, n):\n",
        "        self.n = n\n",
        "\n",
        "    def __call__(self, x):\n",
        "        return self.n * x\n",
        "\n",
        "m = Multiply(5)\n",
        "print(m(10))  # acts like function"
      ],
      "metadata": {
        "id": "33oHpiB511r-"
      }
    },
    {
      "cell_type": "code",
      "source": [
        "#Practical Questions"
      ],
      "metadata": {
        "id": "-KRDest67X-6"
      },
      "execution_count": null,
      "outputs": []
    },
    {
      "cell_type": "code",
      "source": [
        "#Q1. Create a parent class Animal with a method speak() that prints a generic message. Create a child class Dog that overrides the speak() method to print \"Bark!\".\n",
        "class Animal:\n",
        "    def speak(self):\n",
        "        print(\"Animal speaks\")\n",
        "\n",
        "class Dog(Animal):\n",
        "    def speak(self):\n",
        "        print(\"Bark!\")\n",
        "\n",
        "d = Dog()\n",
        "d.speak()"
      ],
      "metadata": {
        "colab": {
          "base_uri": "https://localhost:8080/"
        },
        "id": "lBRzPj6w3mjk",
        "outputId": "efcfddc8-27de-4ade-8b1a-4b8e840e3c10"
      },
      "execution_count": 19,
      "outputs": [
        {
          "output_type": "stream",
          "name": "stdout",
          "text": [
            "Bark!\n"
          ]
        }
      ]
    },
    {
      "cell_type": "code",
      "source": [
        "#Q2. Write a program to create an abstract class Shape with a method area(). Derive classes Circle and Rectangle from it and implement the area() method in both..\n",
        "from abc import ABC, abstractmethod\n",
        "\n",
        "class Shape(ABC):\n",
        "    @abstractmethod\n",
        "    def area(self):\n",
        "        pass\n",
        "\n",
        "class Circle(Shape):\n",
        "    def __init__(self, r):\n",
        "        self.r = r\n",
        "    def area(self):\n",
        "        return 3.14 * self.r * self.r\n",
        "\n",
        "class Rectangle(Shape):\n",
        "    def __init__(self, l, w):\n",
        "        self.l = l\n",
        "        self.w = w\n",
        "    def area(self):\n",
        "        return self.l * self.w\n",
        "\n",
        "c = Circle(5)\n",
        "r = Rectangle(4, 6)\n",
        "print(c.area(), r.area())"
      ],
      "metadata": {
        "colab": {
          "base_uri": "https://localhost:8080/"
        },
        "id": "eldTjysO750W",
        "outputId": "7ecc8084-5428-455a-ed07-feafbb539820"
      },
      "execution_count": 20,
      "outputs": [
        {
          "output_type": "stream",
          "name": "stdout",
          "text": [
            "78.5 24\n"
          ]
        }
      ]
    },
    {
      "cell_type": "code",
      "source": [
        "#Q3.  Implement a multi-level inheritance scenario where a class Vehicle has an attribute type. Derive a class Car and further derive a class ElectricCar that adds a battery attribute.\n",
        "class Vehicle:\n",
        "    def __init__(self, type):\n",
        "        self.type = type\n",
        "\n",
        "class Car(Vehicle):\n",
        "    def __init__(self, type, brand):\n",
        "        super().__init__(type)\n",
        "        self.brand = brand\n",
        "\n",
        "class ElectricCar(Car):\n",
        "    def __init__(self, type, brand, battery):\n",
        "        super().__init__(type, brand)\n",
        "        self.battery = battery\n",
        "\n",
        "e = ElectricCar(\"4-wheeler\", \"Tesla\", \"80kWh\")\n",
        "print(e.type, e.brand, e.battery)"
      ],
      "metadata": {
        "colab": {
          "base_uri": "https://localhost:8080/"
        },
        "id": "WrOADyga79KE",
        "outputId": "adb8f7c2-c94b-4fad-ad97-d843465e38e1"
      },
      "execution_count": 21,
      "outputs": [
        {
          "output_type": "stream",
          "name": "stdout",
          "text": [
            "4-wheeler Tesla 80kWh\n"
          ]
        }
      ]
    },
    {
      "cell_type": "code",
      "source": [
        "#Q4. Demonstrate polymorphism by creating a base class Bird with a method fly(). Create two derived classes Sparrow and Penguin that override the fly() method.\n",
        "class Bird:\n",
        "    def fly(self):\n",
        "        print(\"Bird flies\")\n",
        "\n",
        "class Sparrow(Bird):\n",
        "    def fly(self):\n",
        "        print(\"Sparrow flies high\")\n",
        "\n",
        "class Penguin(Bird):\n",
        "    def fly(self):\n",
        "        print(\"Penguins cannot fly\")\n",
        "\n",
        "for b in [Sparrow(), Penguin()]:\n",
        "    b.fly()"
      ],
      "metadata": {
        "colab": {
          "base_uri": "https://localhost:8080/"
        },
        "id": "UEWYU0ml8Dm9",
        "outputId": "859a747e-7e59-48ad-b658-cd6031edb8c6"
      },
      "execution_count": 22,
      "outputs": [
        {
          "output_type": "stream",
          "name": "stdout",
          "text": [
            "Sparrow flies high\n",
            "Penguins cannot fly\n"
          ]
        }
      ]
    },
    {
      "cell_type": "code",
      "source": [
        "#Q5.  Write a program to demonstrate encapsulation by creating a class BankAccount with private attributes balance and methods to deposit, withdraw, and check balance.\n",
        "class BankAccount:\n",
        "    def __init__(self):\n",
        "        self.__balance = 0\n",
        "\n",
        "    def deposit(self, amount):\n",
        "        self.__balance += amount\n",
        "\n",
        "    def withdraw(self, amount):\n",
        "        if self.__balance >= amount:\n",
        "            self.__balance -= amount\n",
        "        else:\n",
        "            print(\"Not enough balance\")\n",
        "\n",
        "    def get_balance(self):\n",
        "        return self.__balance\n",
        "\n",
        "acc = BankAccount()\n",
        "acc.deposit(1000)\n",
        "acc.withdraw(200)\n",
        "print(acc.get_balance())"
      ],
      "metadata": {
        "colab": {
          "base_uri": "https://localhost:8080/"
        },
        "id": "Zh9FDNkt8PBM",
        "outputId": "b5a917c4-37f3-4cd4-d119-af3b3fa5d15e"
      },
      "execution_count": 23,
      "outputs": [
        {
          "output_type": "stream",
          "name": "stdout",
          "text": [
            "800\n"
          ]
        }
      ]
    },
    {
      "cell_type": "code",
      "source": [
        "#Q6.  Demonstrate runtime polymorphism using a method play() in a base class Instrument. Derive classes Guitar and Piano that implement their own version of play().\n",
        "class Instrument:\n",
        "    def play(self):\n",
        "        print(\"Instrument is playing\")\n",
        "\n",
        "class Guitar(Instrument):\n",
        "    def play(self):\n",
        "        print(\"Guitar is playing\")\n",
        "\n",
        "class Piano(Instrument):\n",
        "    def play(self):\n",
        "        print(\"Piano is playing\")\n",
        "\n",
        "for i in [Guitar(), Piano()]:\n",
        "    i.play()"
      ],
      "metadata": {
        "colab": {
          "base_uri": "https://localhost:8080/"
        },
        "id": "FWTZHU4S8Qtc",
        "outputId": "0f21077a-d770-4b81-f627-fa7f890c3909"
      },
      "execution_count": 24,
      "outputs": [
        {
          "output_type": "stream",
          "name": "stdout",
          "text": [
            "Guitar is playing\n",
            "Piano is playing\n"
          ]
        }
      ]
    },
    {
      "cell_type": "code",
      "source": [
        "#Q7. Create a class MathOperations with a class method add_numbers() to add two numbers and a static method subtract_numbers() to subtract two numbers..\n",
        "class MathOperations:\n",
        "    @classmethod\n",
        "    def add_numbers(cls, a, b):\n",
        "        return a + b\n",
        "\n",
        "    @staticmethod\n",
        "    def subtract_numbers(a, b):\n",
        "        return a - b\n",
        "\n",
        "print(MathOperations.add_numbers(5, 10))\n",
        "print(MathOperations.subtract_numbers(15, 5))"
      ],
      "metadata": {
        "colab": {
          "base_uri": "https://localhost:8080/"
        },
        "id": "rVWvg6HS8UWk",
        "outputId": "74d21bde-1d7b-4df3-ad71-fe075c450362"
      },
      "execution_count": 25,
      "outputs": [
        {
          "output_type": "stream",
          "name": "stdout",
          "text": [
            "15\n",
            "10\n"
          ]
        }
      ]
    },
    {
      "cell_type": "code",
      "source": [
        "#Q8. Implement a class Person with a class method to count the total number of persons created.\n",
        "class Person:\n",
        "    count = 0\n",
        "\n",
        "    def __init__(self, name):\n",
        "        self.name = name\n",
        "        Person.count += 1\n",
        "\n",
        "    @classmethod\n",
        "    def total_persons(cls):\n",
        "        return cls.count\n",
        "\n",
        "p1 = Person(\"Akash\")\n",
        "p2 = Person(\"Neha\")\n",
        "print(Person.total_persons())"
      ],
      "metadata": {
        "colab": {
          "base_uri": "https://localhost:8080/"
        },
        "id": "v25_3QYt8bL8",
        "outputId": "bc0887fe-1910-418b-84f3-b313e313abdb"
      },
      "execution_count": 27,
      "outputs": [
        {
          "output_type": "stream",
          "name": "stdout",
          "text": [
            "2\n"
          ]
        }
      ]
    },
    {
      "cell_type": "code",
      "source": [
        "#Q9. Write a class Fraction with attributes numerator and denominator. Override the str method to display the fraction as \"numerator/denominator\"..\n",
        "class Fraction:\n",
        "    def __init__(self, n, d):\n",
        "        self.n = n\n",
        "        self.d = d\n",
        "\n",
        "    def __str__(self):\n",
        "        return f\"{self.n}/{self.d}\"\n",
        "\n",
        "f = Fraction(3, 4)\n",
        "print(f)"
      ],
      "metadata": {
        "colab": {
          "base_uri": "https://localhost:8080/"
        },
        "id": "0N1Tz8qH8flF",
        "outputId": "ebef3b78-3359-4126-a9e1-ecfe4f243032"
      },
      "execution_count": 26,
      "outputs": [
        {
          "output_type": "stream",
          "name": "stdout",
          "text": [
            "3/4\n"
          ]
        }
      ]
    },
    {
      "cell_type": "code",
      "source": [
        "#Q10.  Demonstrate operator overloading by creating a class Vector and overriding the add method to add two vectors.\n",
        "class Vector:\n",
        "    def __init__(self, x, y):\n",
        "        self.x = x\n",
        "        self.y = y\n",
        "\n",
        "    def __add__(self, other):\n",
        "        return Vector(self.x + other.x, self.y + other.y)\n",
        "\n",
        "    def __str__(self):\n",
        "        return f\"({self.x}, {self.y})\"\n",
        "\n",
        "v1 = Vector(2, 3)\n",
        "v2 = Vector(4, 5)\n",
        "print(v1 + v2)"
      ],
      "metadata": {
        "colab": {
          "base_uri": "https://localhost:8080/"
        },
        "id": "RT1qhp5H8jnc",
        "outputId": "1aca9dc9-7424-404e-f544-2e24edc52c61"
      },
      "execution_count": 28,
      "outputs": [
        {
          "output_type": "stream",
          "name": "stdout",
          "text": [
            "(6, 8)\n"
          ]
        }
      ]
    },
    {
      "cell_type": "code",
      "source": [
        "#Q11.  Create a class Person with attributes name and age. Add a method greet() that prints \"Hello, my name is {name} and I am {age} years old.\"\n",
        "class Person:\n",
        "    def __init__(self, name, age):\n",
        "        self.name = name\n",
        "        self.age = age\n",
        "\n",
        "    def greet(self):\n",
        "        print(f\"Hello, my name is {self.name} and I am {self.age} years old.\")\n",
        "\n",
        "p = Person(\"Akash\", 22)\n",
        "p.greet()"
      ],
      "metadata": {
        "colab": {
          "base_uri": "https://localhost:8080/"
        },
        "id": "imUy3eTe8m9L",
        "outputId": "5e221e82-4cf8-4982-f343-b5763ee37ffe"
      },
      "execution_count": 29,
      "outputs": [
        {
          "output_type": "stream",
          "name": "stdout",
          "text": [
            "Hello, my name is Akash and I am 22 years old.\n"
          ]
        }
      ]
    },
    {
      "cell_type": "code",
      "source": [
        "#Q12. Implement a class Student with attributes name and grades. Create a method average_grade() to compute the average of the grades.\n",
        "class Student:\n",
        "    def __init__(self, name, grades):\n",
        "        self.name = name\n",
        "        self.grades = grades\n",
        "\n",
        "    def average_grade(self):\n",
        "        return sum(self.grades) / len(self.grades)\n",
        "\n",
        "s = Student(\"Akash\", [80, 90, 70])\n",
        "print(s.average_grade())"
      ],
      "metadata": {
        "colab": {
          "base_uri": "https://localhost:8080/"
        },
        "id": "Taap6oDT8qT7",
        "outputId": "64be7292-ef87-459e-b4ae-d8b1d4fef837"
      },
      "execution_count": 30,
      "outputs": [
        {
          "output_type": "stream",
          "name": "stdout",
          "text": [
            "80.0\n"
          ]
        }
      ]
    },
    {
      "cell_type": "code",
      "source": [
        "#Q13. Create a class Rectangle with methods set_dimensions() to set the dimensions and area() to calculate the area.\n",
        "class Rectangle:\n",
        "    def set_dimensions(self, l, w):\n",
        "        self.l = l\n",
        "        self.w = w\n",
        "\n",
        "    def area(self):\n",
        "        return self.l * self.w\n",
        "\n",
        "r = Rectangle()\n",
        "r.set_dimensions(4, 6)\n",
        "print(r.area())"
      ],
      "metadata": {
        "colab": {
          "base_uri": "https://localhost:8080/"
        },
        "id": "Var1jVma8rpr",
        "outputId": "9cabdcbd-7d01-462e-bd4c-fa7ea0fe12fa"
      },
      "execution_count": 31,
      "outputs": [
        {
          "output_type": "stream",
          "name": "stdout",
          "text": [
            "24\n"
          ]
        }
      ]
    },
    {
      "cell_type": "code",
      "source": [
        "#Q14.  Create a class Employee with a method calculate_salary() that computes the salary based on hours worked and hourly rate. Create a derived class Manager that adds a bonus to the salary..\n",
        "class Employee:\n",
        "    def __init__(self, hours, rate):\n",
        "        self.hours = hours\n",
        "        self.rate = rate\n",
        "\n",
        "    def calculate_salary(self):\n",
        "        return self.hours * self.rate\n",
        "\n",
        "class Manager(Employee):\n",
        "    def __init__(self, hours, rate, bonus):\n",
        "        super().__init__(hours, rate)\n",
        "        self.bonus = bonus\n",
        "\n",
        "    def calculate_salary(self):\n",
        "        return super().calculate_salary() + self.bonus\n",
        "\n",
        "m = Manager(40, 100, 5000)\n",
        "print(m.calculate_salary())"
      ],
      "metadata": {
        "colab": {
          "base_uri": "https://localhost:8080/"
        },
        "id": "BQBySjoW8yZ0",
        "outputId": "6d41f241-9527-4c52-c040-928386e1b53a"
      },
      "execution_count": 32,
      "outputs": [
        {
          "output_type": "stream",
          "name": "stdout",
          "text": [
            "9000\n"
          ]
        }
      ]
    },
    {
      "cell_type": "code",
      "source": [
        "#Q15.  Create a class Product with attributes name, price, and quantity. Implement a method total_price() that calculates the total price of the product..\n",
        "class Product:\n",
        "    def __init__(self, name, price, quantity):\n",
        "        self.name = name\n",
        "        self.price = price\n",
        "        self.quantity = quantity\n",
        "\n",
        "    def total_price(self):\n",
        "        return self.price * self.quantity\n",
        "\n",
        "p = Product(\"Laptop\", 50000, 2)\n",
        "print(p.total_price())"
      ],
      "metadata": {
        "colab": {
          "base_uri": "https://localhost:8080/"
        },
        "id": "_wcS5rqc85ft",
        "outputId": "c37b6ec8-5721-4b9a-b2ed-d6ca8b6b968a"
      },
      "execution_count": 33,
      "outputs": [
        {
          "output_type": "stream",
          "name": "stdout",
          "text": [
            "100000\n"
          ]
        }
      ]
    },
    {
      "cell_type": "code",
      "source": [
        "#Q16. Create a class Animal with an abstract method sound(). Create two derived classes Cow and Sheep that implement the sound() method.\n",
        "from abc import ABC, abstractmethod\n",
        "\n",
        "class Animal(ABC):\n",
        "    @abstractmethod\n",
        "    def sound(self):\n",
        "        pass\n",
        "\n",
        "class Cow(Animal):\n",
        "    def sound(self):\n",
        "        print(\"Moo\")\n",
        "\n",
        "class Sheep(Animal):\n",
        "    def sound(self):\n",
        "        print(\"Baa\")\n",
        "\n",
        "c = Cow()\n",
        "s = Sheep()\n",
        "c.sound()\n",
        "s.sound()"
      ],
      "metadata": {
        "colab": {
          "base_uri": "https://localhost:8080/"
        },
        "id": "GvMaz__E9Amd",
        "outputId": "cd0b9fa1-b7c8-4431-9340-6b0af0896ac5"
      },
      "execution_count": 34,
      "outputs": [
        {
          "output_type": "stream",
          "name": "stdout",
          "text": [
            "Moo\n",
            "Baa\n"
          ]
        }
      ]
    },
    {
      "cell_type": "code",
      "source": [
        "#Q17. Create a class Book with attributes title, author, and year_published. Add a method get_book_info() that returns a formatted string with the book's details.\n",
        "class Book:\n",
        "    def __init__(self, title, author, year):\n",
        "        self.title = title\n",
        "        self.author = author\n",
        "        self.year = year\n",
        "\n",
        "    def get_book_info(self):\n",
        "        return f\"{self.title} by {self.author}, published in {self.year}\"\n",
        "\n",
        "b = Book(\"Python Basics\", \"Guido\", 1991)\n",
        "print(b.get_book_info())"
      ],
      "metadata": {
        "colab": {
          "base_uri": "https://localhost:8080/"
        },
        "id": "0IfO7znw9E0s",
        "outputId": "39f03243-68b2-45dc-d2ac-0311db6a2ef5"
      },
      "execution_count": 35,
      "outputs": [
        {
          "output_type": "stream",
          "name": "stdout",
          "text": [
            "Python Basics by Guido, published in 1991\n"
          ]
        }
      ]
    },
    {
      "cell_type": "code",
      "source": [
        "#Q18. Create a class House with attributes address and price. Create a derived class Mansion that adds an attribute number_of_rooms.\n",
        "class House:\n",
        "    def __init__(self, address, price):\n",
        "        self.address = address\n",
        "        self.price = price\n",
        "\n",
        "class Mansion(House):\n",
        "    def __init__(self, address, price, rooms):\n",
        "        super().__init__(address, price)\n",
        "        self.rooms = rooms\n",
        "\n",
        "m = Mansion(\"Mumbai\", 50000000, 10)\n",
        "print(\"Address:\", m.address)\n",
        "print(\"Price:\", m.price)\n",
        "print(\"Rooms:\", m.rooms)\n"
      ],
      "metadata": {
        "colab": {
          "base_uri": "https://localhost:8080/"
        },
        "id": "6KaNq4p-9Tp1",
        "outputId": "37aa8da2-0b53-439b-efa3-cded5aeced93"
      },
      "execution_count": 37,
      "outputs": [
        {
          "output_type": "stream",
          "name": "stdout",
          "text": [
            "Address: Mumbai\n",
            "Price: 50000000\n",
            "Rooms: 10\n"
          ]
        }
      ]
    }
  ]
}